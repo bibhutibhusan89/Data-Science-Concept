{
 "cells": [
  {
   "cell_type": "markdown",
   "metadata": {},
   "source": [
    "### Regular Expression Concept"
   ]
  },
  {
   "cell_type": "markdown",
   "metadata": {
    "collapsed": true
   },
   "source": [
    "### re.match(pattern,string)"
   ]
  },
  {
   "cell_type": "raw",
   "metadata": {},
   "source": [
    "This method will find match,if it occures at starting point."
   ]
  },
  {
   "cell_type": "code",
   "execution_count": 22,
   "metadata": {},
   "outputs": [
    {
     "name": "stdout",
     "output_type": "stream",
     "text": [
      "<_sre.SRE_Match object; span=(0, 5), match='kunal'>\n"
     ]
    }
   ],
   "source": [
    "import re\n",
    "result =re.match(r'kunal','kunal bhashkar is a good boy.kunal')\n",
    "print(result)"
   ]
  },
  {
   "cell_type": "code",
   "execution_count": 23,
   "metadata": {},
   "outputs": [
    {
     "name": "stdout",
     "output_type": "stream",
     "text": [
      "kunal\n"
     ]
    }
   ],
   "source": [
    "print(result.group(0))"
   ]
  },
  {
   "cell_type": "code",
   "execution_count": 24,
   "metadata": {},
   "outputs": [
    {
     "name": "stdout",
     "output_type": "stream",
     "text": [
      "None\n"
     ]
    }
   ],
   "source": [
    "#It will not match because bhashkar is at second position\n",
    "result=re.match(r'bhashkar','kunal bhashkar is a good boy.kunal')\n",
    "print(result)"
   ]
  },
  {
   "cell_type": "code",
   "execution_count": 25,
   "metadata": {},
   "outputs": [
    {
     "name": "stdout",
     "output_type": "stream",
     "text": [
      "0\n"
     ]
    }
   ],
   "source": [
    "#using start and ending position of matching pattern in the string\n",
    "result=re.match(r'kunal','kunal bhashkar is a good boy.kunal')\n",
    "print(result.start())"
   ]
  },
  {
   "cell_type": "code",
   "execution_count": 26,
   "metadata": {},
   "outputs": [
    {
     "name": "stdout",
     "output_type": "stream",
     "text": [
      "5\n"
     ]
    }
   ],
   "source": [
    "print(result.end())"
   ]
  },
  {
   "cell_type": "markdown",
   "metadata": {},
   "source": [
    "### re.search(pattern,string)"
   ]
  },
  {
   "cell_type": "code",
   "execution_count": 27,
   "metadata": {},
   "outputs": [
    {
     "name": "stdout",
     "output_type": "stream",
     "text": [
      "good\n"
     ]
    }
   ],
   "source": [
    "#Searching pattern in string\n",
    "result=re.search(r'good','kunal bhashkar is a good boy.kunal')\n",
    "print(result.group(0))"
   ]
  },
  {
   "cell_type": "markdown",
   "metadata": {},
   "source": [
    "### re.findall(pattern,string)"
   ]
  },
  {
   "cell_type": "code",
   "execution_count": 28,
   "metadata": {},
   "outputs": [
    {
     "name": "stdout",
     "output_type": "stream",
     "text": [
      "['kunal', 'kunal']\n"
     ]
    }
   ],
   "source": [
    "#helps to get a list of matching patterns\n",
    "result=re.findall(r'kunal','kunal bhashkar is a good boy.kunal')\n",
    "print(result)"
   ]
  },
  {
   "cell_type": "markdown",
   "metadata": {},
   "source": [
    "### re.split(pattern,string,[maxsplit=0])"
   ]
  },
  {
   "cell_type": "code",
   "execution_count": 29,
   "metadata": {},
   "outputs": [
    {
     "name": "stdout",
     "output_type": "stream",
     "text": [
      "['b', 'as', 'kar is good boy']\n"
     ]
    }
   ],
   "source": [
    "#splitting string by the occurrence of given pattern\n",
    "result=re.split(r'h','bhashkar is good boy')\n",
    "print(result)"
   ]
  },
  {
   "cell_type": "code",
   "execution_count": 30,
   "metadata": {},
   "outputs": [
    {
     "name": "stdout",
     "output_type": "stream",
     "text": [
      "['kunal b', 'ashkar is a good boy.kunal']\n"
     ]
    }
   ],
   "source": [
    "#split by using maxsplit\n",
    "result=re.split(r'h','kunal bhashkar is a good boy.kunal',maxsplit=1)\n",
    "print(result)"
   ]
  },
  {
   "cell_type": "markdown",
   "metadata": {},
   "source": [
    "### re.sub(pattern,repl,string)"
   ]
  },
  {
   "cell_type": "code",
   "execution_count": 31,
   "metadata": {},
   "outputs": [
    {
     "name": "stdout",
     "output_type": "stream",
     "text": [
      "kunal bhashkar is a excellent boy.kunal\n"
     ]
    }
   ],
   "source": [
    "#substract the search pattern and replace it to a new string\n",
    "result=re.sub(r'good','excellent','kunal bhashkar is a good boy.kunal')\n",
    "print(result)"
   ]
  },
  {
   "cell_type": "markdown",
   "metadata": {},
   "source": [
    "### re.compile(pattern,repl,string)"
   ]
  },
  {
   "cell_type": "code",
   "execution_count": 32,
   "metadata": {},
   "outputs": [
    {
     "name": "stdout",
     "output_type": "stream",
     "text": [
      "['kunal', 'kunal']\n",
      "['kunal', 'kunal', 'kunal']\n"
     ]
    }
   ],
   "source": [
    "#consider regular expression pattern into pattern objects\n",
    "pattern=re.compile('kunal')\n",
    "result1=pattern.findall('kunal bhashkar is a good boy.kunal')\n",
    "print(result1)\n",
    "result2=pattern.findall('kunal is best friend of kunal bhashkar.kunal')\n",
    "print(result2)"
   ]
  },
  {
   "cell_type": "markdown",
   "metadata": {},
   "source": [
    "### Some examples of regular expressions"
   ]
  },
  {
   "cell_type": "code",
   "execution_count": 33,
   "metadata": {},
   "outputs": [
    {
     "name": "stdout",
     "output_type": "stream",
     "text": [
      "['k', 'u', 'n', 'a', 'l', ' ', 'b', 'h', 'a', 's', 'h', 'k', 'a', 'r', ' ', 'i', 's', ' ', 'a', ' ', 'g', 'o', 'o', 'd', ' ', 'b', 'o', 'y', '.', 'k', 'u', 'n', 'a', 'l']\n"
     ]
    }
   ],
   "source": [
    "#Problem 1: Return the first word of a given string\n",
    "#Method 01\n",
    "result=re.findall(r'.','kunal bhashkar is a good boy.kunal')\n",
    "print(result)"
   ]
  },
  {
   "cell_type": "code",
   "execution_count": 34,
   "metadata": {},
   "outputs": [
    {
     "name": "stdout",
     "output_type": "stream",
     "text": [
      "['k', 'u', 'n', 'a', 'l', 'b', 'h', 'a', 's', 'h', 'k', 'a', 'r', 'i', 's', 'a', 'g', 'o', 'o', 'd', 'b', 'o', 'y', 'k', 'u', 'n', 'a', 'l']\n"
     ]
    }
   ],
   "source": [
    "#To remove the space we use '\\w' inplace of '.'\n",
    "result=re.findall(r'\\w','kunal bhashkar is a good boy.kunal')\n",
    "print(result)"
   ]
  },
  {
   "cell_type": "code",
   "execution_count": 35,
   "metadata": {},
   "outputs": [
    {
     "name": "stdout",
     "output_type": "stream",
     "text": [
      "['kunal', '', 'bhashkar', '', 'is', '', 'a', '', 'good', '', 'boy', '', 'kunal', '']\n"
     ]
    }
   ],
   "source": [
    "#Extract each word using (\"*\" or \"+\")\n",
    "result=re.findall(r'\\w*','kunal bhashkar is a good boy.kunal')\n",
    "print(result)"
   ]
  },
  {
   "cell_type": "code",
   "execution_count": 36,
   "metadata": {},
   "outputs": [
    {
     "name": "stdout",
     "output_type": "stream",
     "text": [
      "['kunal', 'bhashkar', 'is', 'a', 'good', 'boy', 'kunal']\n"
     ]
    }
   ],
   "source": [
    "#Extract each word by removing space\n",
    "result=re.findall(r'\\w+','kunal bhashkar is a good boy.kunal')\n",
    "print(result)"
   ]
  },
  {
   "cell_type": "code",
   "execution_count": 37,
   "metadata": {},
   "outputs": [
    {
     "name": "stdout",
     "output_type": "stream",
     "text": [
      "['kunal']\n"
     ]
    }
   ],
   "source": [
    "#Extract each word by using (\"^\")\n",
    "result=re.findall(r'^\\w+','kunal bhashkar is a good boy.kunal')\n",
    "print(result)"
   ]
  },
  {
   "cell_type": "code",
   "execution_count": 38,
   "metadata": {},
   "outputs": [
    {
     "name": "stdout",
     "output_type": "stream",
     "text": [
      "['kunal_L']\n"
     ]
    }
   ],
   "source": [
    "#Extract the word from end of the string\n",
    "result=re.findall(r'\\w+$','kunal bhashkar is a good boy.kunal_L')\n",
    "print(result)"
   ]
  },
  {
   "cell_type": "code",
   "execution_count": 40,
   "metadata": {},
   "outputs": [
    {
     "name": "stdout",
     "output_type": "stream",
     "text": [
      "['ku', 'na', 'bh', 'as', 'hk', 'ar', 'is', 'go', 'od', 'bo', 'ku', 'na']\n"
     ]
    }
   ],
   "source": [
    "#Return the first two character of the word\n",
    "result=re.findall(r'\\w\\w','kunal bhashkar is a good boy.kunal')\n",
    "print(result)"
   ]
  },
  {
   "cell_type": "code",
   "execution_count": 44,
   "metadata": {},
   "outputs": [
    {
     "name": "stdout",
     "output_type": "stream",
     "text": [
      "['ku', 'bh', 'is', 'a ', 'go', 'bo', 'ku']\n"
     ]
    }
   ],
   "source": [
    "#Extract consecutive two character those available at the start of word boundary\n",
    "result=re.findall(r'\\b\\w.','kunal bhashkar is a good boy.kunal')\n",
    "print(result)"
   ]
  },
  {
   "cell_type": "code",
   "execution_count": 46,
   "metadata": {},
   "outputs": [
    {
     "name": "stdout",
     "output_type": "stream",
     "text": [
      "['@gmail', '@test', '@datascience', '@xyz']\n"
     ]
    }
   ],
   "source": [
    "#Retuen the domain type of given email ids\n",
    "result=re.findall(r'@\\w+','kunal@gmail.com,kunal@test.in,regex@datascience.com,abc@xyz.com')\n",
    "print(result)"
   ]
  },
  {
   "cell_type": "code",
   "execution_count": 50,
   "metadata": {},
   "outputs": [
    {
     "name": "stdout",
     "output_type": "stream",
     "text": [
      "['@gmail.com', '@xyz.com', '@test.in', '@kunal.com', '@rest.biz']\n"
     ]
    }
   ],
   "source": [
    "#Extract all part of its domain\n",
    "result=re.findall(r'@\\w+.\\w+','kunal@gmail.com,abc@xyz.com,xyz@test.in,test.first@kunal.com,first.test@rest.biz')\n",
    "print(result)"
   ]
  },
  {
   "cell_type": "code",
   "execution_count": 53,
   "metadata": {},
   "outputs": [
    {
     "name": "stdout",
     "output_type": "stream",
     "text": [
      "['com', 'com', 'in', 'com', 'biz']\n"
     ]
    }
   ],
   "source": [
    "#Extract only domain name\n",
    "result=re.findall(r'@\\w+.(\\w+)','kunal@gmail.com,abc@xyz.com,xyz@test.in,test.first@kunal.com,first.test@rest.biz')\n",
    "print(result)"
   ]
  },
  {
   "cell_type": "code",
   "execution_count": 54,
   "metadata": {},
   "outputs": [
    {
     "name": "stdout",
     "output_type": "stream",
     "text": [
      "['12-05-2012', '11-01-2013', '12-01-2009']\n"
     ]
    }
   ],
   "source": [
    "#Return the date from given string\n",
    "result=re.findall(r'\\d{2}-\\d{2}-\\d{4}','kunal 34-22 12-05-2012,bhashkar 23-23 11-01-2013,golu 67-23 12-01-2009')\n",
    "print(result)"
   ]
  },
  {
   "cell_type": "code",
   "execution_count": 55,
   "metadata": {},
   "outputs": [
    {
     "name": "stdout",
     "output_type": "stream",
     "text": [
      "['2012', '2013', '2009']\n"
     ]
    }
   ],
   "source": [
    "#Return only year\n",
    "result=re.findall(r'\\d{2}-\\d{2}-(\\d{4})','kunal 34-22 12-05-2012,bhashkar 23-23 11-01-2013,golu 67-23 12-01-2009')\n",
    "print(result)"
   ]
  },
  {
   "cell_type": "code",
   "execution_count": 59,
   "metadata": {},
   "outputs": [
    {
     "name": "stdout",
     "output_type": "stream",
     "text": [
      "['unal', 'ashkar', 'is', 'ood', 'oy', 'unal']\n"
     ]
    }
   ],
   "source": [
    "#Return all word of string who start with vowel\n",
    "result=re.findall(r'[aeiouAEIOU]\\w+','kunal bhashkar is a good boy.kunal')\n",
    "print(result)"
   ]
  },
  {
   "cell_type": "code",
   "execution_count": 60,
   "metadata": {},
   "outputs": [
    {
     "name": "stdout",
     "output_type": "stream",
     "text": [
      "['is']\n"
     ]
    }
   ],
   "source": [
    "#Return all word of string who start with vowel\n",
    "result=re.findall(r'\\b[aeiouAEIOU]\\w+','kunal bhashkar is a good boy.kunal')\n",
    "print(result)"
   ]
  },
  {
   "cell_type": "code",
   "execution_count": 61,
   "metadata": {},
   "outputs": [
    {
     "name": "stdout",
     "output_type": "stream",
     "text": [
      "['kunal', ' bhashkar', ' is', ' a', ' good', ' boy', '.kunal']\n"
     ]
    }
   ],
   "source": [
    "#Extract those words with constant\n",
    "result=re.findall(r'\\b[^aeiouAEIOU]\\w+','kunal bhashkar is a good boy.kunal')\n",
    "print(result)"
   ]
  },
  {
   "cell_type": "code",
   "execution_count": 62,
   "metadata": {},
   "outputs": [
    {
     "name": "stdout",
     "output_type": "stream",
     "text": [
      "Phone Number\n",
      "Not a Phone Number\n",
      "Not a Phone Number\n"
     ]
    }
   ],
   "source": [
    "#validate a phone number (phone number must be of 10 digits and may be start from 8 or 9)\n",
    "phlist=['9999999999','999999-999','99999*9999']\n",
    "for val in phlist:\n",
    "    if re.match(r'[8-9]{1}[0-9]{9}',val) and len(val)==10:\n",
    "        print('Phone Number')\n",
    "    else:\n",
    "        print('Not a Phone Number')"
   ]
  },
  {
   "cell_type": "code",
   "execution_count": 63,
   "metadata": {},
   "outputs": [
    {
     "name": "stdout",
     "output_type": "stream",
     "text": [
      "['asdf', 'fjdk', 'afed', 'fjek', 'asdf', 'foo']\n"
     ]
    }
   ],
   "source": [
    "#Splitting the string with delimeter\n",
    "line='asdf fjdk;afed,fjek,asdf,foo' #These string has multiple delimeters (\";\",\",\",\" \")\n",
    "result=re.split(r'[;,\\s]',line)\n",
    "print(result)"
   ]
  },
  {
   "cell_type": "code",
   "execution_count": 65,
   "metadata": {},
   "outputs": [
    {
     "name": "stdout",
     "output_type": "stream",
     "text": [
      "asdf fjdk afed fjek asdf foo\n"
     ]
    }
   ],
   "source": [
    "#we can do by re.sub()method\n",
    "line='asdf fjdk;afed,fjek,asdf,foo' #These string has multiple delimeters (\";\",\",\",\" \")\n",
    "result=re.sub(r'[;,\\s]',' ',line)\n",
    "print(result)"
   ]
  },
  {
   "cell_type": "code",
   "execution_count": 80,
   "metadata": {},
   "outputs": [],
   "source": [
    "#Retrive information by html file\n",
    "#result=re.findall(r'<td>\\w+</td>\\s<td>(\\w+)</td>\\s<td>(\\w+)</td>',html)"
   ]
  },
  {
   "cell_type": "code",
   "execution_count": 78,
   "metadata": {},
   "outputs": [],
   "source": [
    "from urllib.request import urlopen\n",
    "response=urlopen('https://www.google.co.in/')\n",
    "html=response.read()"
   ]
  },
  {
   "cell_type": "code",
   "execution_count": 82,
   "metadata": {},
   "outputs": [
    {
     "name": "stdout",
     "output_type": "stream",
     "text": [
      "how much for the maple syrup   20 99  That s ridiculous   \n"
     ]
    }
   ],
   "source": [
    "#\\w will match alphanumeric characters and underscores\n",
    "#[^\\w] will match anything that's not alphanumeric or underscore\n",
    "s = \"how much for the maple syrup? $20.99? That's ridiculous!!!\"\n",
    "result=re.sub(r'[^\\w]',' ',s)\n",
    "print(result)"
   ]
  },
  {
   "cell_type": "code",
   "execution_count": 83,
   "metadata": {
    "collapsed": true
   },
   "outputs": [],
   "source": [
    "import string\n",
    "s = \"how much for the maple syrup? $20.99? That's ricidulous!!!\"\n",
    "for char in string.punctuation:\n",
    "       s = s.replace(char, ' ')"
   ]
  },
  {
   "cell_type": "code",
   "execution_count": 87,
   "metadata": {},
   "outputs": [
    {
     "name": "stdout",
     "output_type": "stream",
     "text": [
      " i think mabe 124 +   but I don't have a big experience it just how I see it in my eyes   fun stuff\n"
     ]
    }
   ],
   "source": [
    "s = \" i think mabe 124 + <font color=\\\"black\\\"><font face=\\\"Times New Roman\\\">but I don't have a big experience it just how I see it in my eyes <font color=\\\"green\\\"><font face=\\\"Arial\\\">fun stuff\"\n",
    "result=re.sub(\"<.*?>\",' ',s)\n",
    "print(result)"
   ]
  },
  {
   "cell_type": "code",
   "execution_count": 86,
   "metadata": {},
   "outputs": [
    {
     "name": "stdout",
     "output_type": "stream",
     "text": [
      " i think mabe 124 +   but I don't have a big experience it just how I see it in my eyes   fun stuff\n"
     ]
    }
   ],
   "source": [
    "s = \" i think mabe 124 + <font color=\\\"black\\\"><font face=\\\"Times New Roman\\\">but I don't have a big experience it just how I see it in my eyes <font color=\\\"green\\\"><font face=\\\"Arial\\\">fun stuff\"\n",
    "result=re.sub(r'<.*?>',' ',s)\n",
    "print(result)"
   ]
  },
  {
   "cell_type": "code",
   "execution_count": 88,
   "metadata": {},
   "outputs": [
    {
     "name": "stdout",
     "output_type": "stream",
     "text": [
      "['232454, Date: February 12, 2011']\n"
     ]
    }
   ],
   "source": [
    "items = re.findall(\"[0-9]+.*: .*\", \"Customer number: 232454, Date: February 12, 2011\")\n",
    "print(items)"
   ]
  },
  {
   "cell_type": "code",
   "execution_count": 89,
   "metadata": {},
   "outputs": [
    {
     "name": "stdout",
     "output_type": "stream",
     "text": [
      "<_sre.SRE_Match object; span=(25, 32), match='W12 7RJ'>\n"
     ]
    }
   ],
   "source": [
    "regex = r\"[A-z]{1,2}[0-9R][0-9A-Z]? [0-9][ABD-HJLNP-UW-Z]{2}\"\n",
    "address = \"BBC News Centre, London, W12 7RJ\"\n",
    "compiled_re = re.compile(regex)\n",
    "res = compiled_re.search(address)\n",
    "print(res)"
   ]
  },
  {
   "cell_type": "code",
   "execution_count": null,
   "metadata": {
    "collapsed": true
   },
   "outputs": [],
   "source": []
  }
 ],
 "metadata": {
  "kernelspec": {
   "display_name": "Python 3",
   "language": "python",
   "name": "python3"
  },
  "language_info": {
   "codemirror_mode": {
    "name": "ipython",
    "version": 3
   },
   "file_extension": ".py",
   "mimetype": "text/x-python",
   "name": "python",
   "nbconvert_exporter": "python",
   "pygments_lexer": "ipython3",
   "version": "3.6.3"
  }
 },
 "nbformat": 4,
 "nbformat_minor": 2
}
